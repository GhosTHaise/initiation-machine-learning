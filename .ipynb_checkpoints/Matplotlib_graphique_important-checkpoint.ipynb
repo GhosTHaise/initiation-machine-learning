{
 "cells": [
  {
   "cell_type": "code",
   "execution_count": 2,
   "id": "338fe81f",
   "metadata": {},
   "outputs": [],
   "source": [
    "\n",
    "import matplotlib.pyplot as plt\n",
    "import numpy as np\n",
    "from sklearn.datasets import load_iris\n",
    "\n",
    "from mpl_toolkits.mplot3d import Axes3D"
   ]
  },
  {
   "cell_type": "code",
   "execution_count": 3,
   "id": "a1707b9f",
   "metadata": {},
   "outputs": [
    {
     "name": "stdout",
     "output_type": "stream",
     "text": [
      "x contient 150 exe mples 4 variables\n",
      "il y a 3 classes\n"
     ]
    },
    {
     "data": {
      "text/plain": [
       "Text(0, 0.5, 'largeur sepal')"
      ]
     },
     "execution_count": 3,
     "metadata": {},
     "output_type": "execute_result"
    }
   ],
   "source": [
    "iris = load_iris()\n",
    "\n",
    "x = iris.data\n",
    "y = iris.target\n",
    "names = list(iris.target_names)\n",
    "\n",
    "print(f'x contient {x.shape[0]} exe mples {x.shape[1]} variables')\n",
    "print(f'il y a {np.unique(y).size} classes')\n",
    "\n",
    "plt.scatter(x[:,0],x[:,1],c=y,alpha=0.5,s=x[:,2]*25)\n",
    "plt.xlabel(\"longueur sepal\")\n",
    "plt.ylabel(\"largeur sepal\")\n"
   ]
  },
  {
   "cell_type": "code",
   "execution_count": 4,
   "id": "b0df7203",
   "metadata": {},
   "outputs": [],
   "source": [
    "ax = plt.axes(projection=\"3d\")\n",
    "ax.scatter(x[:,0],x[:,1],x[:,2],c=y)\n",
    "plt.show()"
   ]
  },
  {
   "cell_type": "code",
   "execution_count": null,
   "id": "7a94d5f4",
   "metadata": {},
   "outputs": [],
   "source": []
  }
 ],
 "metadata": {
  "kernelspec": {
   "display_name": "Python 3 (ipykernel)",
   "language": "python",
   "name": "python3"
  },
  "language_info": {
   "codemirror_mode": {
    "name": "ipython",
    "version": 3
   },
   "file_extension": ".py",
   "mimetype": "text/x-python",
   "name": "python",
   "nbconvert_exporter": "python",
   "pygments_lexer": "ipython3",
   "version": "3.9.13"
  }
 },
 "nbformat": 4,
 "nbformat_minor": 5
}
