{
 "cells": [
  {
   "cell_type": "code",
   "execution_count": 43,
   "id": "f0ce5f1d",
   "metadata": {},
   "outputs": [
    {
     "data": {
      "text/plain": [
       "array([[6., 6., 6.],\n",
       "       [1., 1., 1.],\n",
       "       [4., 4., 4.],\n",
       "       [4., 4., 4.]])"
      ]
     },
     "execution_count": 43,
     "metadata": {},
     "output_type": "execute_result"
    }
   ],
   "source": [
    "import numpy as np\n",
    "np.random.seed(0)\n",
    "A = np.random.randint(0,10,[4,1])\n",
    "B = np.ones((3,))\n",
    "A+B"
   ]
  },
  {
   "cell_type": "code",
   "execution_count": 44,
   "id": "ca2e45e2",
   "metadata": {},
   "outputs": [
    {
     "data": {
      "text/plain": [
       "array([[5],\n",
       "       [0],\n",
       "       [3],\n",
       "       [3]])"
      ]
     },
     "execution_count": 44,
     "metadata": {},
     "output_type": "execute_result"
    }
   ],
   "source": [
    "A"
   ]
  },
  {
   "cell_type": "code",
   "execution_count": 45,
   "id": "9da2cc18",
   "metadata": {},
   "outputs": [
    {
     "data": {
      "text/plain": [
       "array([1., 1., 1.])"
      ]
     },
     "execution_count": 45,
     "metadata": {},
     "output_type": "execute_result"
    }
   ],
   "source": [
    "B"
   ]
  },
  {
   "cell_type": "code",
   "execution_count": 26,
   "id": "5cce2bb1",
   "metadata": {},
   "outputs": [
    {
     "ename": "ValueError",
     "evalue": "operands could not be broadcast together with shapes (3,4) (4,1) ",
     "output_type": "error",
     "traceback": [
      "\u001b[1;31m---------------------------------------------------------------------------\u001b[0m",
      "\u001b[1;31mValueError\u001b[0m                                Traceback (most recent call last)",
      "\u001b[1;32m~\\AppData\\Local\\Temp\\ipykernel_1312\\3895659964.py\u001b[0m in \u001b[0;36m<module>\u001b[1;34m\u001b[0m\n\u001b[1;32m----> 1\u001b[1;33m \u001b[0mA\u001b[0m \u001b[1;33m+\u001b[0m \u001b[0mB\u001b[0m\u001b[1;33m\u001b[0m\u001b[1;33m\u001b[0m\u001b[0m\n\u001b[0m",
      "\u001b[1;31mValueError\u001b[0m: operands could not be broadcast together with shapes (3,4) (4,1) "
     ]
    }
   ],
   "source": [
    "A + B\n"
   ]
  },
  {
   "cell_type": "code",
   "execution_count": 60,
   "id": "75889a36",
   "metadata": {},
   "outputs": [
    {
     "name": "stdout",
     "output_type": "stream",
     "text": [
      "[[44 47 64 67 67]\n",
      " [ 9 83 21 36 87]\n",
      " [70 88 88 12 58]\n",
      " [65 39 87 46 88]\n",
      " [81 37 25 77 72]\n",
      " [ 9 20 80 69 79]\n",
      " [47 64 82 99 88]\n",
      " [49 29 19 19 14]\n",
      " [39 32 65  9 57]\n",
      " [32 31 74 23 35]]\n",
      "[[-0.02206157  0.          0.13173823  0.72539252  0.10755798]\n",
      " [-1.56637126  1.61579632 -1.48676006 -0.33034307  0.96802178]\n",
      " [ 1.12513992  1.84021247  1.03508612 -1.14768676 -0.27965074]\n",
      " [ 0.90452425 -0.35906585  0.99744662  0.0102168   1.01104497]\n",
      " [ 1.6104944  -0.44883231 -1.33620208  1.0659524   0.32267393]\n",
      " [-1.56637126 -1.21184724  0.73397016  0.7935045   0.62383626]\n",
      " [ 0.11030784  0.76301493  0.80924915  1.81518411  1.01104497]\n",
      " [ 0.1985541  -0.80789816 -1.56203905 -0.90929485 -2.17267111]\n",
      " [-0.24267724 -0.67324847  0.16937773 -1.24985473 -0.32267393]\n",
      " [-0.55153918 -0.7181317   0.50813319 -0.77307091 -1.26918412]] \n",
      " moyenne :  [-2.22044605e-17 -4.44089210e-17  0.00000000e+00 -1.22124533e-16\n",
      " -4.44089210e-17] \n",
      " ecart-type : 1.0\n"
     ]
    },
    {
     "data": {
      "text/plain": [
       "array([44.5, 47. , 60.5, 45.7, 64.5])"
      ]
     },
     "execution_count": 60,
     "metadata": {},
     "output_type": "execute_result"
    }
   ],
   "source": [
    "np.random.seed(0)\n",
    "A = np.random.randint(0,100,[10,5])\n",
    "print(A)\n",
    "\n",
    "D = (A - A.mean(axis=0)) / A.std(axis=0)\n",
    "print(D,\"\\n moyenne : \",np.mean(D,axis=0),\"\\n ecart-type :\",np.std(D))\n",
    "A.mean(axis=0)"
   ]
  }
 ],
 "metadata": {
  "kernelspec": {
   "display_name": "Python 3 (ipykernel)",
   "language": "python",
   "name": "python3"
  },
  "language_info": {
   "codemirror_mode": {
    "name": "ipython",
    "version": 3
   },
   "file_extension": ".py",
   "mimetype": "text/x-python",
   "name": "python",
   "nbconvert_exporter": "python",
   "pygments_lexer": "ipython3",
   "version": "3.9.13"
  }
 },
 "nbformat": 4,
 "nbformat_minor": 5
}
