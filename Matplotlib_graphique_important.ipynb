{
 "cells": [
  {
   "cell_type": "code",
   "execution_count": 1,
   "id": "338fe81f",
   "metadata": {},
   "outputs": [],
   "source": [
    "%matplotlib inline\n",
    "\n",
    "import matplotlib.pyplot as plt\n",
    "import numpy as np\n",
    "from sklearn.datasets import load_iris\n"
   ]
  },
  {
   "cell_type": "code",
   "execution_count": 15,
   "id": "a1707b9f",
   "metadata": {},
   "outputs": [
    {
     "name": "stdout",
     "output_type": "stream",
     "text": [
      "x contient 150 exe mples 4 variables\n",
      "il y a 3 classes\n"
     ]
    },
    {
     "data": {
      "text/plain": [
       "Text(0, 0.5, 'largeur sepal')"
      ]
     },
     "execution_count": 15,
     "metadata": {},
     "output_type": "execute_result"
    }
   ],
   "source": [
    "iris = load_iris()\n",
    "\n",
    "x = iris.data\n",
    "y = iris.target\n",
    "names = list(iris.target_names)\n",
    "\n",
    "print(f'x contient {x.shape[0]} exe mples {x.shape[1]} variables')\n",
    "print(f'il y a {np.unique(y).size} classes')\n",
    "\n",
    "plt.scatter(x[:,0],x[:,1],c=y,alpha=0.5,s=x[:,2]*25)\n",
    "plt.xlabel(\"longueur sepal\")\n",
    "plt.ylabel(\"largeur sepal\")\n"
   ]
  },
  {
   "cell_type": "code",
   "execution_count": null,
   "id": "b5cadff3",
   "metadata": {},
   "outputs": [],
   "source": []
  },
  {
   "cell_type": "code",
   "execution_count": null,
   "id": "b0df7203",
   "metadata": {},
   "outputs": [],
   "source": [
    "from mpl_toolkits.mplot3d import Axes3D\n",
    "\n"
   ]
  },
  {
   "cell_type": "code",
   "execution_count": 9,
   "id": "7a94d5f4",
   "metadata": {},
   "outputs": [
    {
     "name": "stdout",
     "output_type": "stream",
     "text": [
      "Using matplotlib backend: QtAgg\n"
     ]
    },
    {
     "ename": "IndexError",
     "evalue": "too many indices for array: array is 1-dimensional, but 2 were indexed",
     "output_type": "error",
     "traceback": [
      "\u001b[1;31m---------------------------------------------------------------------------\u001b[0m",
      "\u001b[1;31mIndexError\u001b[0m                                Traceback (most recent call last)",
      "\u001b[1;32m~\\AppData\\Local\\Temp\\ipykernel_784\\3569187609.py\u001b[0m in \u001b[0;36m<module>\u001b[1;34m\u001b[0m\n\u001b[0;32m      1\u001b[0m \u001b[0mget_ipython\u001b[0m\u001b[1;33m(\u001b[0m\u001b[1;33m)\u001b[0m\u001b[1;33m.\u001b[0m\u001b[0mrun_line_magic\u001b[0m\u001b[1;33m(\u001b[0m\u001b[1;34m'matplotlib'\u001b[0m\u001b[1;33m,\u001b[0m \u001b[1;34m''\u001b[0m\u001b[1;33m)\u001b[0m\u001b[1;33m\u001b[0m\u001b[1;33m\u001b[0m\u001b[0m\n\u001b[0;32m      2\u001b[0m \u001b[0max\u001b[0m \u001b[1;33m=\u001b[0m \u001b[0mplt\u001b[0m\u001b[1;33m.\u001b[0m\u001b[0maxes\u001b[0m\u001b[1;33m(\u001b[0m\u001b[0mprojection\u001b[0m\u001b[1;33m=\u001b[0m\u001b[1;34m\"3d\"\u001b[0m\u001b[1;33m)\u001b[0m\u001b[1;33m\u001b[0m\u001b[1;33m\u001b[0m\u001b[0m\n\u001b[1;32m----> 3\u001b[1;33m \u001b[0max\u001b[0m\u001b[1;33m.\u001b[0m\u001b[0mscatter\u001b[0m\u001b[1;33m(\u001b[0m\u001b[0mx\u001b[0m\u001b[1;33m[\u001b[0m\u001b[1;33m:\u001b[0m\u001b[1;33m,\u001b[0m\u001b[1;36m0\u001b[0m\u001b[1;33m]\u001b[0m\u001b[1;33m,\u001b[0m\u001b[0mx\u001b[0m\u001b[1;33m[\u001b[0m\u001b[1;33m:\u001b[0m\u001b[1;33m,\u001b[0m\u001b[1;36m1\u001b[0m\u001b[1;33m]\u001b[0m\u001b[1;33m,\u001b[0m\u001b[0mx\u001b[0m\u001b[1;33m[\u001b[0m\u001b[1;33m:\u001b[0m\u001b[1;33m,\u001b[0m\u001b[1;36m2\u001b[0m\u001b[1;33m]\u001b[0m\u001b[1;33m,\u001b[0m\u001b[0mc\u001b[0m\u001b[1;33m=\u001b[0m\u001b[0my\u001b[0m\u001b[1;33m)\u001b[0m\u001b[1;33m\u001b[0m\u001b[1;33m\u001b[0m\u001b[0m\n\u001b[0m",
      "\u001b[1;31mIndexError\u001b[0m: too many indices for array: array is 1-dimensional, but 2 were indexed"
     ]
    }
   ],
   "source": [
    "%matplotlib\n",
    "ax = plt.axes(projection=\"3d\")\n",
    "ax.scatter(x[:,0],x[:,1],x[:,2],c=y)"
   ]
  },
  {
   "cell_type": "code",
   "execution_count": 11,
   "id": "b191b1ec",
   "metadata": {},
   "outputs": [
    {
     "data": {
      "text/plain": [
       "<mpl_toolkits.mplot3d.art3d.Poly3DCollection at 0x24a72d39940>"
      ]
     },
     "execution_count": 11,
     "metadata": {},
     "output_type": "execute_result"
    }
   ],
   "source": [
    "f = lambda x,y : np.sin(x) + np.cos(y)\n",
    "x = np.linspace(0,5,100)\n",
    "y = np.linspace(0,5,100)\n",
    "X,Y = np.meshgrid(x,y)\n",
    "Z=f(X,Y)\n",
    "ax = plt.axes(projection=\"3d\")\n",
    "ax.plot_surface(X,Y,Z,cmap=\"plasma\")"
   ]
  },
  {
   "cell_type": "code",
   "execution_count": 19,
   "id": "5468b4e4",
   "metadata": {},
   "outputs": [
    {
     "data": {
      "text/plain": [
       "(array([ 1.,  0.,  0.,  0.,  0.,  0.,  0.,  0.,  3.,  0.,  0.,  0.,  4.,\n",
       "         0.,  0.,  0.,  3.,  0.,  0.,  0.,  8.,  0.,  0.,  0.,  0.,  5.,\n",
       "         0.,  0.,  0.,  9.,  0.,  0.,  0., 14.,  0.,  0.,  0., 10.,  0.,\n",
       "         0.,  0., 26.,  0.,  0.,  0., 11.,  0.,  0.,  0.,  0., 13.,  0.,\n",
       "         0.,  0.,  6.,  0.,  0.,  0., 12.,  0.,  0.,  0.,  6.,  0.,  0.,\n",
       "         0.,  4.,  0.,  0.,  0.,  3.,  0.,  0.,  0.,  6.,  0.,  0.,  0.,\n",
       "         0.,  2.,  0.,  0.,  0.,  1.,  0.,  0.,  0.,  1.,  0.,  0.,  0.,\n",
       "         1.,  0.,  0.,  0.,  0.,  0.,  0.,  0.,  1.]),\n",
       " array([2.   , 2.024, 2.048, 2.072, 2.096, 2.12 , 2.144, 2.168, 2.192,\n",
       "        2.216, 2.24 , 2.264, 2.288, 2.312, 2.336, 2.36 , 2.384, 2.408,\n",
       "        2.432, 2.456, 2.48 , 2.504, 2.528, 2.552, 2.576, 2.6  , 2.624,\n",
       "        2.648, 2.672, 2.696, 2.72 , 2.744, 2.768, 2.792, 2.816, 2.84 ,\n",
       "        2.864, 2.888, 2.912, 2.936, 2.96 , 2.984, 3.008, 3.032, 3.056,\n",
       "        3.08 , 3.104, 3.128, 3.152, 3.176, 3.2  , 3.224, 3.248, 3.272,\n",
       "        3.296, 3.32 , 3.344, 3.368, 3.392, 3.416, 3.44 , 3.464, 3.488,\n",
       "        3.512, 3.536, 3.56 , 3.584, 3.608, 3.632, 3.656, 3.68 , 3.704,\n",
       "        3.728, 3.752, 3.776, 3.8  , 3.824, 3.848, 3.872, 3.896, 3.92 ,\n",
       "        3.944, 3.968, 3.992, 4.016, 4.04 , 4.064, 4.088, 4.112, 4.136,\n",
       "        4.16 , 4.184, 4.208, 4.232, 4.256, 4.28 , 4.304, 4.328, 4.352,\n",
       "        4.376, 4.4  ]),\n",
       " <BarContainer object of 100 artists>)"
      ]
     },
     "execution_count": 19,
     "metadata": {},
     "output_type": "execute_result"
    }
   ],
   "source": [
    "plt.hist(x[:,0],bins=100)\n",
    "plt.hist(x[:,1],bins=100)"
   ]
  },
  {
   "cell_type": "code",
   "execution_count": 22,
   "id": "e23a1ed4",
   "metadata": {},
   "outputs": [
    {
     "data": {
      "text/plain": [
       "<matplotlib.colorbar.Colorbar at 0x24a768046a0>"
      ]
     },
     "execution_count": 22,
     "metadata": {},
     "output_type": "execute_result"
    }
   ],
   "source": [
    "plt.hist2d(x[:,0],x[:,1],cmap=\"Blues\")\n",
    "plt.xlabel(\"longueur sepal\")\n",
    "plt.ylabel(\"largeur sepal\")\n",
    "plt.colorbar()"
   ]
  },
  {
   "cell_type": "code",
   "execution_count": 25,
   "id": "a8d71a2d",
   "metadata": {},
   "outputs": [],
   "source": [
    "from scipy import misc\n",
    "face = misc.face(gray=True)\n",
    "plt.hist(face.ravel(),bins=255)\n",
    "plt.show()"
   ]
  },
  {
   "cell_type": "code",
   "execution_count": 28,
   "id": "59a8a23e",
   "metadata": {},
   "outputs": [
    {
     "data": {
      "text/plain": [
       "<matplotlib.contour.QuadContourSet at 0x24a778314f0>"
      ]
     },
     "execution_count": 28,
     "metadata": {},
     "output_type": "execute_result"
    }
   ],
   "source": [
    "plt.contour(X,Y,Z,20,colors=\"black\")"
   ]
  },
  {
   "cell_type": "code",
   "execution_count": 31,
   "id": "d346666a",
   "metadata": {},
   "outputs": [
    {
     "data": {
      "text/plain": [
       "<matplotlib.colorbar.Colorbar at 0x24a77828cd0>"
      ]
     },
     "execution_count": 31,
     "metadata": {},
     "output_type": "execute_result"
    }
   ],
   "source": [
    "plt.contourf(X,Y,Z,cmap=\"RdGy\")\n",
    "plt.colorbar()"
   ]
  },
  {
   "cell_type": "code",
   "execution_count": 35,
   "id": "33ec0918",
   "metadata": {},
   "outputs": [
    {
     "data": {
      "text/plain": [
       "array([[1.        , 0.99599866, 0.99997391, ..., 0.65347343, 0.6339168 ,\n",
       "        0.63315839],\n",
       "       [0.99599866, 1.        , 0.99660709, ..., 0.70898277, 0.68625679,\n",
       "        0.68483481],\n",
       "       [0.99997391, 0.99660709, 1.        , ..., 0.65755616, 0.63763128,\n",
       "        0.6368058 ],\n",
       "       ...,\n",
       "       [0.65347343, 0.70898277, 0.65755616, ..., 1.        , 0.99570813,\n",
       "        0.99446012],\n",
       "       [0.6339168 , 0.68625679, 0.63763128, ..., 0.99570813, 1.        ,\n",
       "        0.99991588],\n",
       "       [0.63315839, 0.68483481, 0.6368058 , ..., 0.99446012, 0.99991588,\n",
       "        1.        ]])"
      ]
     },
     "execution_count": 35,
     "metadata": {},
     "output_type": "execute_result"
    }
   ],
   "source": [
    "plt.imshow(np.corrcoef(x.T),cmap='Blues')\n",
    "plt.colorbar()\n",
    "plt.show()\n",
    "np.corrcoef(x)"
   ]
  },
  {
   "cell_type": "code",
   "execution_count": null,
   "id": "1d11a234",
   "metadata": {},
   "outputs": [],
   "source": []
  }
 ],
 "metadata": {
  "kernelspec": {
   "display_name": "Python 3 (ipykernel)",
   "language": "python",
   "name": "python3"
  },
  "language_info": {
   "codemirror_mode": {
    "name": "ipython",
    "version": 3
   },
   "file_extension": ".py",
   "mimetype": "text/x-python",
   "name": "python",
   "nbconvert_exporter": "python",
   "pygments_lexer": "ipython3",
   "version": "3.9.13"
  }
 },
 "nbformat": 4,
 "nbformat_minor": 5
}
