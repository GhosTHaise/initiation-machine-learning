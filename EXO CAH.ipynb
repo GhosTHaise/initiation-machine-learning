{
 "cells": [
  {
   "cell_type": "code",
   "execution_count": 13,
   "id": "07283a50",
   "metadata": {},
   "outputs": [],
   "source": [
    "import numpy as np\n",
    "import matplotlib.pyplot as plt\n",
    "from sklearn.cluster import KMeans\n",
    "from math import *"
   ]
  },
  {
   "cell_type": "code",
   "execution_count": 4,
   "id": "ed101012",
   "metadata": {},
   "outputs": [],
   "source": [
    "X = np.array([\n",
    "    [2,2],\n",
    "    [7.5,4],\n",
    "    [3,3],\n",
    "    [0.5,5],\n",
    "    [6,4]\n",
    "])"
   ]
  },
  {
   "cell_type": "code",
   "execution_count": 5,
   "id": "247e2b4b",
   "metadata": {},
   "outputs": [
    {
     "data": {
      "text/plain": [
       "<matplotlib.collections.PathCollection at 0x21681239610>"
      ]
     },
     "execution_count": 5,
     "metadata": {},
     "output_type": "execute_result"
    },
    {
     "data": {
      "image/png": "[encoded data removed]",
      "text/plain": [
       "<Figure size 640x480 with 1 Axes>"
      ]
     },
     "metadata": {},
     "output_type": "display_data"
    }
   ],
   "source": [
    "plt.scatter(X[:,0],X[:,1])"
   ]
  },
  {
   "cell_type": "code",
   "execution_count": 7,
   "id": "3da08a03",
   "metadata": {},
   "outputs": [
    {
     "data": {
      "text/plain": [
       "KMeans(n_clusters=2)"
      ]
     },
     "execution_count": 7,
     "metadata": {},
     "output_type": "execute_result"
    }
   ],
   "source": [
    "model = KMeans(n_clusters=2)\n",
    "model.fit(X)"
   ]
  },
  {
   "cell_type": "code",
   "execution_count": 8,
   "id": "71c4737f",
   "metadata": {},
   "outputs": [
    {
     "data": {
      "text/plain": [
       "<matplotlib.collections.PathCollection at 0x2168129e8b0>"
      ]
     },
     "execution_count": 8,
     "metadata": {},
     "output_type": "execute_result"
    },
    {
     "data": {
      "image/png": "[encoded data removed]",
      "text/plain": [
       "<Figure size 640x480 with 1 Axes>"
      ]
     },
     "metadata": {},
     "output_type": "display_data"
    }
   ],
   "source": [
    "plt.scatter(X[:,0],X[:,1],c=model.predict(X))"
   ]
  },
  {
   "cell_type": "code",
   "execution_count": 27,
   "id": "41b79257",
   "metadata": {},
   "outputs": [],
   "source": [
    "def calculDistance(array1 , array2):\n",
    "    value = []\n",
    "    for i in range(0,len(array1)):\n",
    "        for j in range(0,1):\n",
    "            value.append(sqrt(pow(array1[i,j]-array2[i,j],2) + pow(array1[i,j]-array2[i,j],2)))\n",
    "    return value"
   ]
  },
  {
   "cell_type": "code",
   "execution_count": 28,
   "id": "1765d145",
   "metadata": {},
   "outputs": [
    {
     "data": {
      "text/plain": [
       "[0.0, 0.0, 0.0, 0.0, 0.0]"
      ]
     },
     "execution_count": 28,
     "metadata": {},
     "output_type": "execute_result"
    }
   ],
   "source": [
    "calculDistance(X,X)"
   ]
  },
  {
   "cell_type": "code",
   "execution_count": 32,
   "id": "0cf168f7",
   "metadata": {},
   "outputs": [],
   "source": [
    "def calculDistance(array1 , array2):\n",
    "    return sqrt(pow(array1[0]-array2[0],2) + pow(array1[1]-array2[1],2))"
   ]
  },
  {
   "cell_type": "code",
   "execution_count": 51,
   "id": "f4ed47a3",
   "metadata": {},
   "outputs": [
    {
     "data": {
      "text/plain": [
       "[[0.0,\n",
       "  5.852349955359813,\n",
       "  1.4142135623730951,\n",
       "  3.3541019662496847,\n",
       "  4.47213595499958],\n",
       " [5.852349955359813, 0.0, 4.6097722286464435, 7.0710678118654755, 1.5],\n",
       " [1.4142135623730951,\n",
       "  4.6097722286464435,\n",
       "  0.0,\n",
       "  3.2015621187164243,\n",
       "  3.1622776601683795],\n",
       " [3.3541019662496847,\n",
       "  7.0710678118654755,\n",
       "  3.2015621187164243,\n",
       "  0.0,\n",
       "  5.5901699437494745],\n",
       " [4.47213595499958, 1.5, 3.1622776601683795, 5.5901699437494745, 0.0]]"
      ]
     },
     "execution_count": 51,
     "metadata": {},
     "output_type": "execute_result"
    }
   ],
   "source": [
    "value = []\n",
    "for i in range(0,len(X)):\n",
    "    row = []\n",
    "    for j in range(0,len(X)):\n",
    "        row.append(calculDistance(X[i],X[j]))\n",
    "    value.append(row)\n",
    "\n",
    "value"
   ]
  },
  {
   "cell_type": "code",
   "execution_count": 52,
   "id": "fe4d5595",
   "metadata": {},
   "outputs": [
    {
     "ename": "AttributeError",
     "evalue": "'list' object has no attribute 'min'",
     "output_type": "error",
     "traceback": [
      "\u001b[1;31m---------------------------------------------------------------------------\u001b[0m",
      "\u001b[1;31mAttributeError\u001b[0m                            Traceback (most recent call last)",
      "\u001b[1;32m~\\AppData\\Local\\Temp\\ipykernel_6604\\1907811282.py\u001b[0m in \u001b[0;36m<module>\u001b[1;34m\u001b[0m\n\u001b[1;32m----> 1\u001b[1;33m \u001b[0mvalue\u001b[0m\u001b[1;33m.\u001b[0m\u001b[0mmin\u001b[0m\u001b[1;33m(\u001b[0m\u001b[1;33m)\u001b[0m\u001b[1;33m\u001b[0m\u001b[1;33m\u001b[0m\u001b[0m\n\u001b[0m",
      "\u001b[1;31mAttributeError\u001b[0m: 'list' object has no attribute 'min'"
     ]
    }
   ],
   "source": [
    "value.min()"
   ]
  },
  {
   "cell_type": "code",
   "execution_count": 54,
   "id": "9090a9c4",
   "metadata": {},
   "outputs": [],
   "source": [
    "X_step1 = np.array(value)"
   ]
  },
  {
   "cell_type": "code",
   "execution_count": 57,
   "id": "6123ee92",
   "metadata": {
    "scrolled": true
   },
   "outputs": [
    {
     "data": {
      "text/plain": [
       "1.4142135623730951"
      ]
     },
     "execution_count": 57,
     "metadata": {},
     "output_type": "execute_result"
    }
   ],
   "source": [
    "X_step1[X_step1 != 0].min()"
   ]
  },
  {
   "cell_type": "code",
   "execution_count": null,
   "id": "264de5a7",
   "metadata": {},
   "outputs": [],
   "source": []
  },
  {
   "cell_type": "code",
   "execution_count": null,
   "id": "05429543",
   "metadata": {},
   "outputs": [],
   "source": []
  }
 ],
 "metadata": {
  "kernelspec": {
   "display_name": "Python 3 (ipykernel)",
   "language": "python",
   "name": "python3"
  },
  "language_info": {
   "codemirror_mode": {
    "name": "ipython",
    "version": 3
   },
   "file_extension": ".py",
   "mimetype": "text/x-python",
   "name": "python",
   "nbconvert_exporter": "python",
   "pygments_lexer": "ipython3",
   "version": "3.11.4"
  }
 },
 "nbformat": 4,
 "nbformat_minor": 5
}
